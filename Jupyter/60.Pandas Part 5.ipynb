{
 "cells": [
  {
   "cell_type": "code",
   "execution_count": 87,
   "metadata": {},
   "outputs": [],
   "source": [
    "import pandas as pd"
   ]
  },
  {
   "cell_type": "code",
   "execution_count": 88,
   "metadata": {},
   "outputs": [],
   "source": [
    "data ={'a':[1,2,3,4],\n",
    "       'b':[4,5,6,7],\n",
    "       'c':['sanjeev','hafang','patton','Linus']}"
   ]
  },
  {
   "cell_type": "code",
   "execution_count": 89,
   "metadata": {},
   "outputs": [],
   "source": [
    "df=pd.DataFrame(data)"
   ]
  },
  {
   "cell_type": "code",
   "execution_count": 90,
   "metadata": {},
   "outputs": [
    {
     "data": {
      "text/html": [
       "<div>\n",
       "<style scoped>\n",
       "    .dataframe tbody tr th:only-of-type {\n",
       "        vertical-align: middle;\n",
       "    }\n",
       "\n",
       "    .dataframe tbody tr th {\n",
       "        vertical-align: top;\n",
       "    }\n",
       "\n",
       "    .dataframe thead th {\n",
       "        text-align: right;\n",
       "    }\n",
       "</style>\n",
       "<table border=\"1\" class=\"dataframe\">\n",
       "  <thead>\n",
       "    <tr style=\"text-align: right;\">\n",
       "      <th></th>\n",
       "      <th>a</th>\n",
       "      <th>b</th>\n",
       "      <th>c</th>\n",
       "    </tr>\n",
       "  </thead>\n",
       "  <tbody>\n",
       "    <tr>\n",
       "      <th>0</th>\n",
       "      <td>1</td>\n",
       "      <td>4</td>\n",
       "      <td>sanjeev</td>\n",
       "    </tr>\n",
       "    <tr>\n",
       "      <th>1</th>\n",
       "      <td>2</td>\n",
       "      <td>5</td>\n",
       "      <td>hafang</td>\n",
       "    </tr>\n",
       "    <tr>\n",
       "      <th>2</th>\n",
       "      <td>3</td>\n",
       "      <td>6</td>\n",
       "      <td>patton</td>\n",
       "    </tr>\n",
       "    <tr>\n",
       "      <th>3</th>\n",
       "      <td>4</td>\n",
       "      <td>7</td>\n",
       "      <td>Linus</td>\n",
       "    </tr>\n",
       "  </tbody>\n",
       "</table>\n",
       "</div>"
      ],
      "text/plain": [
       "   a  b        c\n",
       "0  1  4  sanjeev\n",
       "1  2  5   hafang\n",
       "2  3  6   patton\n",
       "3  4  7    Linus"
      ]
     },
     "execution_count": 90,
     "metadata": {},
     "output_type": "execute_result"
    }
   ],
   "source": [
    "df"
   ]
  },
  {
   "cell_type": "code",
   "execution_count": 91,
   "metadata": {},
   "outputs": [],
   "source": [
    "df.set_index('a',inplace=True)"
   ]
  },
  {
   "cell_type": "code",
   "execution_count": 92,
   "metadata": {},
   "outputs": [
    {
     "data": {
      "text/html": [
       "<div>\n",
       "<style scoped>\n",
       "    .dataframe tbody tr th:only-of-type {\n",
       "        vertical-align: middle;\n",
       "    }\n",
       "\n",
       "    .dataframe tbody tr th {\n",
       "        vertical-align: top;\n",
       "    }\n",
       "\n",
       "    .dataframe thead th {\n",
       "        text-align: right;\n",
       "    }\n",
       "</style>\n",
       "<table border=\"1\" class=\"dataframe\">\n",
       "  <thead>\n",
       "    <tr style=\"text-align: right;\">\n",
       "      <th></th>\n",
       "      <th>b</th>\n",
       "      <th>c</th>\n",
       "    </tr>\n",
       "    <tr>\n",
       "      <th>a</th>\n",
       "      <th></th>\n",
       "      <th></th>\n",
       "    </tr>\n",
       "  </thead>\n",
       "  <tbody>\n",
       "    <tr>\n",
       "      <th>1</th>\n",
       "      <td>4</td>\n",
       "      <td>sanjeev</td>\n",
       "    </tr>\n",
       "    <tr>\n",
       "      <th>2</th>\n",
       "      <td>5</td>\n",
       "      <td>hafang</td>\n",
       "    </tr>\n",
       "    <tr>\n",
       "      <th>3</th>\n",
       "      <td>6</td>\n",
       "      <td>patton</td>\n",
       "    </tr>\n",
       "    <tr>\n",
       "      <th>4</th>\n",
       "      <td>7</td>\n",
       "      <td>Linus</td>\n",
       "    </tr>\n",
       "  </tbody>\n",
       "</table>\n",
       "</div>"
      ],
      "text/plain": [
       "   b        c\n",
       "a            \n",
       "1  4  sanjeev\n",
       "2  5   hafang\n",
       "3  6   patton\n",
       "4  7    Linus"
      ]
     },
     "execution_count": 92,
     "metadata": {},
     "output_type": "execute_result"
    }
   ],
   "source": [
    "df"
   ]
  },
  {
   "cell_type": "code",
   "execution_count": 93,
   "metadata": {},
   "outputs": [
    {
     "data": {
      "text/html": [
       "<div>\n",
       "<style scoped>\n",
       "    .dataframe tbody tr th:only-of-type {\n",
       "        vertical-align: middle;\n",
       "    }\n",
       "\n",
       "    .dataframe tbody tr th {\n",
       "        vertical-align: top;\n",
       "    }\n",
       "\n",
       "    .dataframe thead th {\n",
       "        text-align: right;\n",
       "    }\n",
       "</style>\n",
       "<table border=\"1\" class=\"dataframe\">\n",
       "  <thead>\n",
       "    <tr style=\"text-align: right;\">\n",
       "      <th></th>\n",
       "      <th>a</th>\n",
       "      <th>b</th>\n",
       "      <th>c</th>\n",
       "    </tr>\n",
       "  </thead>\n",
       "  <tbody>\n",
       "    <tr>\n",
       "      <th>0</th>\n",
       "      <td>1</td>\n",
       "      <td>4</td>\n",
       "      <td>sanjeev</td>\n",
       "    </tr>\n",
       "    <tr>\n",
       "      <th>1</th>\n",
       "      <td>2</td>\n",
       "      <td>5</td>\n",
       "      <td>hafang</td>\n",
       "    </tr>\n",
       "    <tr>\n",
       "      <th>2</th>\n",
       "      <td>3</td>\n",
       "      <td>6</td>\n",
       "      <td>patton</td>\n",
       "    </tr>\n",
       "    <tr>\n",
       "      <th>3</th>\n",
       "      <td>4</td>\n",
       "      <td>7</td>\n",
       "      <td>Linus</td>\n",
       "    </tr>\n",
       "  </tbody>\n",
       "</table>\n",
       "</div>"
      ],
      "text/plain": [
       "   a  b        c\n",
       "0  1  4  sanjeev\n",
       "1  2  5   hafang\n",
       "2  3  6   patton\n",
       "3  4  7    Linus"
      ]
     },
     "execution_count": 93,
     "metadata": {},
     "output_type": "execute_result"
    }
   ],
   "source": [
    "df.reset_index()"
   ]
  },
  {
   "cell_type": "code",
   "execution_count": 94,
   "metadata": {},
   "outputs": [
    {
     "data": {
      "text/html": [
       "<div>\n",
       "<style scoped>\n",
       "    .dataframe tbody tr th:only-of-type {\n",
       "        vertical-align: middle;\n",
       "    }\n",
       "\n",
       "    .dataframe tbody tr th {\n",
       "        vertical-align: top;\n",
       "    }\n",
       "\n",
       "    .dataframe thead th {\n",
       "        text-align: right;\n",
       "    }\n",
       "</style>\n",
       "<table border=\"1\" class=\"dataframe\">\n",
       "  <thead>\n",
       "    <tr style=\"text-align: right;\">\n",
       "      <th></th>\n",
       "      <th>b</th>\n",
       "      <th>c</th>\n",
       "    </tr>\n",
       "    <tr>\n",
       "      <th>a</th>\n",
       "      <th></th>\n",
       "      <th></th>\n",
       "    </tr>\n",
       "  </thead>\n",
       "  <tbody>\n",
       "    <tr>\n",
       "      <th>1</th>\n",
       "      <td>4</td>\n",
       "      <td>sanjeev</td>\n",
       "    </tr>\n",
       "    <tr>\n",
       "      <th>2</th>\n",
       "      <td>5</td>\n",
       "      <td>hafang</td>\n",
       "    </tr>\n",
       "    <tr>\n",
       "      <th>3</th>\n",
       "      <td>6</td>\n",
       "      <td>patton</td>\n",
       "    </tr>\n",
       "    <tr>\n",
       "      <th>4</th>\n",
       "      <td>7</td>\n",
       "      <td>Linus</td>\n",
       "    </tr>\n",
       "  </tbody>\n",
       "</table>\n",
       "</div>"
      ],
      "text/plain": [
       "   b        c\n",
       "a            \n",
       "1  4  sanjeev\n",
       "2  5   hafang\n",
       "3  6   patton\n",
       "4  7    Linus"
      ]
     },
     "execution_count": 94,
     "metadata": {},
     "output_type": "execute_result"
    }
   ],
   "source": [
    "df"
   ]
  },
  {
   "cell_type": "code",
   "execution_count": 95,
   "metadata": {},
   "outputs": [],
   "source": [
    "df.reset_index(inplace=True)"
   ]
  },
  {
   "cell_type": "code",
   "execution_count": 96,
   "metadata": {},
   "outputs": [
    {
     "data": {
      "text/html": [
       "<div>\n",
       "<style scoped>\n",
       "    .dataframe tbody tr th:only-of-type {\n",
       "        vertical-align: middle;\n",
       "    }\n",
       "\n",
       "    .dataframe tbody tr th {\n",
       "        vertical-align: top;\n",
       "    }\n",
       "\n",
       "    .dataframe thead th {\n",
       "        text-align: right;\n",
       "    }\n",
       "</style>\n",
       "<table border=\"1\" class=\"dataframe\">\n",
       "  <thead>\n",
       "    <tr style=\"text-align: right;\">\n",
       "      <th></th>\n",
       "      <th>a</th>\n",
       "      <th>b</th>\n",
       "      <th>c</th>\n",
       "    </tr>\n",
       "  </thead>\n",
       "  <tbody>\n",
       "    <tr>\n",
       "      <th>0</th>\n",
       "      <td>1</td>\n",
       "      <td>4</td>\n",
       "      <td>sanjeev</td>\n",
       "    </tr>\n",
       "    <tr>\n",
       "      <th>1</th>\n",
       "      <td>2</td>\n",
       "      <td>5</td>\n",
       "      <td>hafang</td>\n",
       "    </tr>\n",
       "    <tr>\n",
       "      <th>2</th>\n",
       "      <td>3</td>\n",
       "      <td>6</td>\n",
       "      <td>patton</td>\n",
       "    </tr>\n",
       "    <tr>\n",
       "      <th>3</th>\n",
       "      <td>4</td>\n",
       "      <td>7</td>\n",
       "      <td>Linus</td>\n",
       "    </tr>\n",
       "  </tbody>\n",
       "</table>\n",
       "</div>"
      ],
      "text/plain": [
       "   a  b        c\n",
       "0  1  4  sanjeev\n",
       "1  2  5   hafang\n",
       "2  3  6   patton\n",
       "3  4  7    Linus"
      ]
     },
     "execution_count": 96,
     "metadata": {},
     "output_type": "execute_result"
    }
   ],
   "source": [
    "df"
   ]
  },
  {
   "cell_type": "code",
   "execution_count": 97,
   "metadata": {},
   "outputs": [],
   "source": [
    "data ={'a':[1,2,3,4],\n",
    "       'b':[4,5,6,7], \n",
    "       'c':['sanjeev','hafang','patton','Linus']}\n",
    "df1=pd.DataFrame(data,index=['m','n','o','p'])"
   ]
  },
  {
   "cell_type": "code",
   "execution_count": 98,
   "metadata": {},
   "outputs": [
    {
     "data": {
      "text/html": [
       "<div>\n",
       "<style scoped>\n",
       "    .dataframe tbody tr th:only-of-type {\n",
       "        vertical-align: middle;\n",
       "    }\n",
       "\n",
       "    .dataframe tbody tr th {\n",
       "        vertical-align: top;\n",
       "    }\n",
       "\n",
       "    .dataframe thead th {\n",
       "        text-align: right;\n",
       "    }\n",
       "</style>\n",
       "<table border=\"1\" class=\"dataframe\">\n",
       "  <thead>\n",
       "    <tr style=\"text-align: right;\">\n",
       "      <th></th>\n",
       "      <th>a</th>\n",
       "      <th>b</th>\n",
       "      <th>c</th>\n",
       "    </tr>\n",
       "  </thead>\n",
       "  <tbody>\n",
       "    <tr>\n",
       "      <th>m</th>\n",
       "      <td>1</td>\n",
       "      <td>4</td>\n",
       "      <td>sanjeev</td>\n",
       "    </tr>\n",
       "    <tr>\n",
       "      <th>n</th>\n",
       "      <td>2</td>\n",
       "      <td>5</td>\n",
       "      <td>hafang</td>\n",
       "    </tr>\n",
       "    <tr>\n",
       "      <th>o</th>\n",
       "      <td>3</td>\n",
       "      <td>6</td>\n",
       "      <td>patton</td>\n",
       "    </tr>\n",
       "    <tr>\n",
       "      <th>p</th>\n",
       "      <td>4</td>\n",
       "      <td>7</td>\n",
       "      <td>Linus</td>\n",
       "    </tr>\n",
       "  </tbody>\n",
       "</table>\n",
       "</div>"
      ],
      "text/plain": [
       "   a  b        c\n",
       "m  1  4  sanjeev\n",
       "n  2  5   hafang\n",
       "o  3  6   patton\n",
       "p  4  7    Linus"
      ]
     },
     "execution_count": 98,
     "metadata": {},
     "output_type": "execute_result"
    }
   ],
   "source": [
    "df1"
   ]
  },
  {
   "cell_type": "code",
   "execution_count": 99,
   "metadata": {},
   "outputs": [
    {
     "data": {
      "text/html": [
       "<div>\n",
       "<style scoped>\n",
       "    .dataframe tbody tr th:only-of-type {\n",
       "        vertical-align: middle;\n",
       "    }\n",
       "\n",
       "    .dataframe tbody tr th {\n",
       "        vertical-align: top;\n",
       "    }\n",
       "\n",
       "    .dataframe thead th {\n",
       "        text-align: right;\n",
       "    }\n",
       "</style>\n",
       "<table border=\"1\" class=\"dataframe\">\n",
       "  <thead>\n",
       "    <tr style=\"text-align: right;\">\n",
       "      <th></th>\n",
       "      <th>a</th>\n",
       "      <th>b</th>\n",
       "      <th>c</th>\n",
       "    </tr>\n",
       "  </thead>\n",
       "  <tbody>\n",
       "    <tr>\n",
       "      <th>n</th>\n",
       "      <td>2</td>\n",
       "      <td>5</td>\n",
       "      <td>hafang</td>\n",
       "    </tr>\n",
       "    <tr>\n",
       "      <th>p</th>\n",
       "      <td>4</td>\n",
       "      <td>7</td>\n",
       "      <td>Linus</td>\n",
       "    </tr>\n",
       "    <tr>\n",
       "      <th>o</th>\n",
       "      <td>3</td>\n",
       "      <td>6</td>\n",
       "      <td>patton</td>\n",
       "    </tr>\n",
       "    <tr>\n",
       "      <th>m</th>\n",
       "      <td>1</td>\n",
       "      <td>4</td>\n",
       "      <td>sanjeev</td>\n",
       "    </tr>\n",
       "  </tbody>\n",
       "</table>\n",
       "</div>"
      ],
      "text/plain": [
       "   a  b        c\n",
       "n  2  5   hafang\n",
       "p  4  7    Linus\n",
       "o  3  6   patton\n",
       "m  1  4  sanjeev"
      ]
     },
     "execution_count": 99,
     "metadata": {},
     "output_type": "execute_result"
    }
   ],
   "source": [
    "df1.reindex(['n','p','o','m'])"
   ]
  },
  {
   "cell_type": "code",
   "execution_count": 100,
   "metadata": {},
   "outputs": [
    {
     "data": {
      "text/html": [
       "<div>\n",
       "<style scoped>\n",
       "    .dataframe tbody tr th:only-of-type {\n",
       "        vertical-align: middle;\n",
       "    }\n",
       "\n",
       "    .dataframe tbody tr th {\n",
       "        vertical-align: top;\n",
       "    }\n",
       "\n",
       "    .dataframe thead th {\n",
       "        text-align: right;\n",
       "    }\n",
       "</style>\n",
       "<table border=\"1\" class=\"dataframe\">\n",
       "  <thead>\n",
       "    <tr style=\"text-align: right;\">\n",
       "      <th></th>\n",
       "      <th>a</th>\n",
       "      <th>b</th>\n",
       "      <th>c</th>\n",
       "    </tr>\n",
       "  </thead>\n",
       "  <tbody>\n",
       "    <tr>\n",
       "      <th>m</th>\n",
       "      <td>1</td>\n",
       "      <td>4</td>\n",
       "      <td>sanjeev</td>\n",
       "    </tr>\n",
       "    <tr>\n",
       "      <th>n</th>\n",
       "      <td>2</td>\n",
       "      <td>5</td>\n",
       "      <td>hafang</td>\n",
       "    </tr>\n",
       "    <tr>\n",
       "      <th>o</th>\n",
       "      <td>3</td>\n",
       "      <td>6</td>\n",
       "      <td>patton</td>\n",
       "    </tr>\n",
       "    <tr>\n",
       "      <th>p</th>\n",
       "      <td>4</td>\n",
       "      <td>7</td>\n",
       "      <td>Linus</td>\n",
       "    </tr>\n",
       "  </tbody>\n",
       "</table>\n",
       "</div>"
      ],
      "text/plain": [
       "   a  b        c\n",
       "m  1  4  sanjeev\n",
       "n  2  5   hafang\n",
       "o  3  6   patton\n",
       "p  4  7    Linus"
      ]
     },
     "execution_count": 100,
     "metadata": {},
     "output_type": "execute_result"
    }
   ],
   "source": [
    "df1"
   ]
  },
  {
   "cell_type": "code",
   "execution_count": 101,
   "metadata": {},
   "outputs": [
    {
     "name": "stdout",
     "output_type": "stream",
     "text": [
      "a m    1\n",
      "n    2\n",
      "o    3\n",
      "p    4\n",
      "Name: a, dtype: int64\n",
      "b m    4\n",
      "n    5\n",
      "o    6\n",
      "p    7\n",
      "Name: b, dtype: int64\n",
      "c m    sanjeev\n",
      "n     hafang\n",
      "o     patton\n",
      "p      Linus\n",
      "Name: c, dtype: object\n"
     ]
    },
    {
     "name": "stderr",
     "output_type": "stream",
     "text": [
      "C:\\Users\\RomulusDome\\AppData\\Local\\Temp\\ipykernel_4148\\3579549025.py:1: FutureWarning: iteritems is deprecated and will be removed in a future version. Use .items instead.\n",
      "  for i,j in df1.iteritems():\n"
     ]
    }
   ],
   "source": [
    "for i,j in df1.iteritems():\n",
    "    print(i,j)"
   ]
  },
  {
   "cell_type": "code",
   "execution_count": 102,
   "metadata": {},
   "outputs": [
    {
     "data": {
      "text/plain": [
       "0    1\n",
       "1    2\n",
       "2    3\n",
       "3    4\n",
       "Name: a, dtype: int64"
      ]
     },
     "execution_count": 102,
     "metadata": {},
     "output_type": "execute_result"
    }
   ],
   "source": [
    "df['a']"
   ]
  },
  {
   "cell_type": "code",
   "execution_count": 103,
   "metadata": {},
   "outputs": [
    {
     "data": {
      "text/plain": [
       "[1, 2, 3, 4]"
      ]
     },
     "execution_count": 103,
     "metadata": {},
     "output_type": "execute_result"
    }
   ],
   "source": [
    "[i for i in df['a']]"
   ]
  },
  {
   "cell_type": "code",
   "execution_count": 104,
   "metadata": {},
   "outputs": [
    {
     "data": {
      "text/plain": [
       "[1, 2, 3, 4]"
      ]
     },
     "execution_count": 104,
     "metadata": {},
     "output_type": "execute_result"
    }
   ],
   "source": [
    "list(df['a'])"
   ]
  },
  {
   "cell_type": "code",
   "execution_count": 105,
   "metadata": {},
   "outputs": [
    {
     "data": {
      "text/plain": [
       "10"
      ]
     },
     "execution_count": 105,
     "metadata": {},
     "output_type": "execute_result"
    }
   ],
   "source": [
    "df['a'].sum()"
   ]
  },
  {
   "cell_type": "code",
   "execution_count": 106,
   "metadata": {},
   "outputs": [
    {
     "data": {
      "text/plain": [
       "a                          10\n",
       "b                          22\n",
       "c    sanjeevhafangpattonLinus\n",
       "dtype: object"
      ]
     },
     "execution_count": 106,
     "metadata": {},
     "output_type": "execute_result"
    }
   ],
   "source": [
    "def test(x):\n",
    "    return x.sum()\n",
    "df1.apply(test)"
   ]
  },
  {
   "cell_type": "code",
   "execution_count": 107,
   "metadata": {},
   "outputs": [],
   "source": [
    "df2=df1[['a','b']]"
   ]
  },
  {
   "cell_type": "code",
   "execution_count": 108,
   "metadata": {},
   "outputs": [
    {
     "data": {
      "text/html": [
       "<div>\n",
       "<style scoped>\n",
       "    .dataframe tbody tr th:only-of-type {\n",
       "        vertical-align: middle;\n",
       "    }\n",
       "\n",
       "    .dataframe tbody tr th {\n",
       "        vertical-align: top;\n",
       "    }\n",
       "\n",
       "    .dataframe thead th {\n",
       "        text-align: right;\n",
       "    }\n",
       "</style>\n",
       "<table border=\"1\" class=\"dataframe\">\n",
       "  <thead>\n",
       "    <tr style=\"text-align: right;\">\n",
       "      <th></th>\n",
       "      <th>a</th>\n",
       "      <th>b</th>\n",
       "    </tr>\n",
       "  </thead>\n",
       "  <tbody>\n",
       "    <tr>\n",
       "      <th>m</th>\n",
       "      <td>1</td>\n",
       "      <td>4</td>\n",
       "    </tr>\n",
       "    <tr>\n",
       "      <th>n</th>\n",
       "      <td>2</td>\n",
       "      <td>5</td>\n",
       "    </tr>\n",
       "    <tr>\n",
       "      <th>o</th>\n",
       "      <td>3</td>\n",
       "      <td>6</td>\n",
       "    </tr>\n",
       "    <tr>\n",
       "      <th>p</th>\n",
       "      <td>4</td>\n",
       "      <td>7</td>\n",
       "    </tr>\n",
       "  </tbody>\n",
       "</table>\n",
       "</div>"
      ],
      "text/plain": [
       "   a  b\n",
       "m  1  4\n",
       "n  2  5\n",
       "o  3  6\n",
       "p  4  7"
      ]
     },
     "execution_count": 108,
     "metadata": {},
     "output_type": "execute_result"
    }
   ],
   "source": [
    "df2"
   ]
  },
  {
   "cell_type": "code",
   "execution_count": 109,
   "metadata": {},
   "outputs": [
    {
     "data": {
      "text/html": [
       "<div>\n",
       "<style scoped>\n",
       "    .dataframe tbody tr th:only-of-type {\n",
       "        vertical-align: middle;\n",
       "    }\n",
       "\n",
       "    .dataframe tbody tr th {\n",
       "        vertical-align: top;\n",
       "    }\n",
       "\n",
       "    .dataframe thead th {\n",
       "        text-align: right;\n",
       "    }\n",
       "</style>\n",
       "<table border=\"1\" class=\"dataframe\">\n",
       "  <thead>\n",
       "    <tr style=\"text-align: right;\">\n",
       "      <th></th>\n",
       "      <th>a</th>\n",
       "      <th>b</th>\n",
       "    </tr>\n",
       "  </thead>\n",
       "  <tbody>\n",
       "    <tr>\n",
       "      <th>m</th>\n",
       "      <td>1</td>\n",
       "      <td>16</td>\n",
       "    </tr>\n",
       "    <tr>\n",
       "      <th>n</th>\n",
       "      <td>4</td>\n",
       "      <td>25</td>\n",
       "    </tr>\n",
       "    <tr>\n",
       "      <th>o</th>\n",
       "      <td>9</td>\n",
       "      <td>36</td>\n",
       "    </tr>\n",
       "    <tr>\n",
       "      <th>p</th>\n",
       "      <td>16</td>\n",
       "      <td>49</td>\n",
       "    </tr>\n",
       "  </tbody>\n",
       "</table>\n",
       "</div>"
      ],
      "text/plain": [
       "    a   b\n",
       "m   1  16\n",
       "n   4  25\n",
       "o   9  36\n",
       "p  16  49"
      ]
     },
     "execution_count": 109,
     "metadata": {},
     "output_type": "execute_result"
    }
   ],
   "source": [
    "df2.applymap(lambda x:x**2)"
   ]
  },
  {
   "cell_type": "code",
   "execution_count": 110,
   "metadata": {},
   "outputs": [
    {
     "data": {
      "text/html": [
       "<div>\n",
       "<style scoped>\n",
       "    .dataframe tbody tr th:only-of-type {\n",
       "        vertical-align: middle;\n",
       "    }\n",
       "\n",
       "    .dataframe tbody tr th {\n",
       "        vertical-align: top;\n",
       "    }\n",
       "\n",
       "    .dataframe thead th {\n",
       "        text-align: right;\n",
       "    }\n",
       "</style>\n",
       "<table border=\"1\" class=\"dataframe\">\n",
       "  <thead>\n",
       "    <tr style=\"text-align: right;\">\n",
       "      <th></th>\n",
       "      <th>a</th>\n",
       "      <th>b</th>\n",
       "    </tr>\n",
       "  </thead>\n",
       "  <tbody>\n",
       "    <tr>\n",
       "      <th>p</th>\n",
       "      <td>4</td>\n",
       "      <td>7</td>\n",
       "    </tr>\n",
       "    <tr>\n",
       "      <th>o</th>\n",
       "      <td>3</td>\n",
       "      <td>6</td>\n",
       "    </tr>\n",
       "    <tr>\n",
       "      <th>n</th>\n",
       "      <td>2</td>\n",
       "      <td>5</td>\n",
       "    </tr>\n",
       "    <tr>\n",
       "      <th>m</th>\n",
       "      <td>1</td>\n",
       "      <td>4</td>\n",
       "    </tr>\n",
       "  </tbody>\n",
       "</table>\n",
       "</div>"
      ],
      "text/plain": [
       "   a  b\n",
       "p  4  7\n",
       "o  3  6\n",
       "n  2  5\n",
       "m  1  4"
      ]
     },
     "execution_count": 110,
     "metadata": {},
     "output_type": "execute_result"
    }
   ],
   "source": [
    "df2.sort_index(ascending=False)"
   ]
  },
  {
   "cell_type": "code",
   "execution_count": 111,
   "metadata": {},
   "outputs": [
    {
     "data": {
      "text/html": [
       "<div>\n",
       "<style scoped>\n",
       "    .dataframe tbody tr th:only-of-type {\n",
       "        vertical-align: middle;\n",
       "    }\n",
       "\n",
       "    .dataframe tbody tr th {\n",
       "        vertical-align: top;\n",
       "    }\n",
       "\n",
       "    .dataframe thead th {\n",
       "        text-align: right;\n",
       "    }\n",
       "</style>\n",
       "<table border=\"1\" class=\"dataframe\">\n",
       "  <thead>\n",
       "    <tr style=\"text-align: right;\">\n",
       "      <th></th>\n",
       "      <th>a</th>\n",
       "      <th>b</th>\n",
       "      <th>c</th>\n",
       "    </tr>\n",
       "  </thead>\n",
       "  <tbody>\n",
       "    <tr>\n",
       "      <th>p</th>\n",
       "      <td>4</td>\n",
       "      <td>7</td>\n",
       "      <td>Linus</td>\n",
       "    </tr>\n",
       "    <tr>\n",
       "      <th>o</th>\n",
       "      <td>3</td>\n",
       "      <td>6</td>\n",
       "      <td>patton</td>\n",
       "    </tr>\n",
       "    <tr>\n",
       "      <th>n</th>\n",
       "      <td>2</td>\n",
       "      <td>5</td>\n",
       "      <td>hafang</td>\n",
       "    </tr>\n",
       "    <tr>\n",
       "      <th>m</th>\n",
       "      <td>1</td>\n",
       "      <td>4</td>\n",
       "      <td>sanjeev</td>\n",
       "    </tr>\n",
       "  </tbody>\n",
       "</table>\n",
       "</div>"
      ],
      "text/plain": [
       "   a  b        c\n",
       "p  4  7    Linus\n",
       "o  3  6   patton\n",
       "n  2  5   hafang\n",
       "m  1  4  sanjeev"
      ]
     },
     "execution_count": 111,
     "metadata": {},
     "output_type": "execute_result"
    }
   ],
   "source": [
    "df1.sort_index(ascending=False)"
   ]
  },
  {
   "cell_type": "code",
   "execution_count": 112,
   "metadata": {},
   "outputs": [],
   "source": [
    "pd.set_option('display.max_colwidth',500)\n",
    "df4=pd.DataFrame({'Desc':[\"Data Science Masters Course is highly curated and uniquely designed according to the lastest industry requirements.\"]})"
   ]
  },
  {
   "cell_type": "code",
   "execution_count": 113,
   "metadata": {},
   "outputs": [
    {
     "data": {
      "text/html": [
       "<div>\n",
       "<style scoped>\n",
       "    .dataframe tbody tr th:only-of-type {\n",
       "        vertical-align: middle;\n",
       "    }\n",
       "\n",
       "    .dataframe tbody tr th {\n",
       "        vertical-align: top;\n",
       "    }\n",
       "\n",
       "    .dataframe thead th {\n",
       "        text-align: right;\n",
       "    }\n",
       "</style>\n",
       "<table border=\"1\" class=\"dataframe\">\n",
       "  <thead>\n",
       "    <tr style=\"text-align: right;\">\n",
       "      <th></th>\n",
       "      <th>Desc</th>\n",
       "    </tr>\n",
       "  </thead>\n",
       "  <tbody>\n",
       "    <tr>\n",
       "      <th>0</th>\n",
       "      <td>Data Science Masters Course is highly curated and uniquely designed according to the lastest industry requirements.</td>\n",
       "    </tr>\n",
       "  </tbody>\n",
       "</table>\n",
       "</div>"
      ],
      "text/plain": [
       "                                                                                                                  Desc\n",
       "0  Data Science Masters Course is highly curated and uniquely designed according to the lastest industry requirements."
      ]
     },
     "execution_count": 113,
     "metadata": {},
     "output_type": "execute_result"
    }
   ],
   "source": [
    "df4"
   ]
  },
  {
   "cell_type": "code",
   "execution_count": 114,
   "metadata": {},
   "outputs": [],
   "source": [
    "df4['len']=df4['Desc'].apply(len)"
   ]
  },
  {
   "cell_type": "code",
   "execution_count": 115,
   "metadata": {},
   "outputs": [
    {
     "data": {
      "text/html": [
       "<div>\n",
       "<style scoped>\n",
       "    .dataframe tbody tr th:only-of-type {\n",
       "        vertical-align: middle;\n",
       "    }\n",
       "\n",
       "    .dataframe tbody tr th {\n",
       "        vertical-align: top;\n",
       "    }\n",
       "\n",
       "    .dataframe thead th {\n",
       "        text-align: right;\n",
       "    }\n",
       "</style>\n",
       "<table border=\"1\" class=\"dataframe\">\n",
       "  <thead>\n",
       "    <tr style=\"text-align: right;\">\n",
       "      <th></th>\n",
       "      <th>Desc</th>\n",
       "      <th>len</th>\n",
       "    </tr>\n",
       "  </thead>\n",
       "  <tbody>\n",
       "    <tr>\n",
       "      <th>0</th>\n",
       "      <td>Data Science Masters Course is highly curated and uniquely designed according to the lastest industry requirements.</td>\n",
       "      <td>115</td>\n",
       "    </tr>\n",
       "  </tbody>\n",
       "</table>\n",
       "</div>"
      ],
      "text/plain": [
       "                                                                                                                  Desc  \\\n",
       "0  Data Science Masters Course is highly curated and uniquely designed according to the lastest industry requirements.   \n",
       "\n",
       "   len  \n",
       "0  115  "
      ]
     },
     "execution_count": 115,
     "metadata": {},
     "output_type": "execute_result"
    }
   ],
   "source": [
    "df4"
   ]
  },
  {
   "cell_type": "code",
   "execution_count": 116,
   "metadata": {},
   "outputs": [
    {
     "data": {
      "text/plain": [
       "5"
      ]
     },
     "execution_count": 116,
     "metadata": {},
     "output_type": "execute_result"
    }
   ],
   "source": [
    "t=\" i want to kill you\"\n",
    "t.split()\n",
    "len(t.split())"
   ]
  },
  {
   "cell_type": "code",
   "execution_count": 117,
   "metadata": {},
   "outputs": [],
   "source": [
    "df4['word_count']=df4['Desc'].apply(lambda x:len(x.split()))"
   ]
  },
  {
   "cell_type": "code",
   "execution_count": 118,
   "metadata": {},
   "outputs": [
    {
     "data": {
      "text/html": [
       "<div>\n",
       "<style scoped>\n",
       "    .dataframe tbody tr th:only-of-type {\n",
       "        vertical-align: middle;\n",
       "    }\n",
       "\n",
       "    .dataframe tbody tr th {\n",
       "        vertical-align: top;\n",
       "    }\n",
       "\n",
       "    .dataframe thead th {\n",
       "        text-align: right;\n",
       "    }\n",
       "</style>\n",
       "<table border=\"1\" class=\"dataframe\">\n",
       "  <thead>\n",
       "    <tr style=\"text-align: right;\">\n",
       "      <th></th>\n",
       "      <th>Desc</th>\n",
       "      <th>len</th>\n",
       "      <th>word_count</th>\n",
       "    </tr>\n",
       "  </thead>\n",
       "  <tbody>\n",
       "    <tr>\n",
       "      <th>0</th>\n",
       "      <td>Data Science Masters Course is highly curated and uniquely designed according to the lastest industry requirements.</td>\n",
       "      <td>115</td>\n",
       "      <td>16</td>\n",
       "    </tr>\n",
       "  </tbody>\n",
       "</table>\n",
       "</div>"
      ],
      "text/plain": [
       "                                                                                                                  Desc  \\\n",
       "0  Data Science Masters Course is highly curated and uniquely designed according to the lastest industry requirements.   \n",
       "\n",
       "   len  word_count  \n",
       "0  115          16  "
      ]
     },
     "execution_count": 118,
     "metadata": {},
     "output_type": "execute_result"
    }
   ],
   "source": [
    "df4"
   ]
  },
  {
   "cell_type": "code",
   "execution_count": 119,
   "metadata": {},
   "outputs": [
    {
     "data": {
      "text/html": [
       "<div>\n",
       "<style scoped>\n",
       "    .dataframe tbody tr th:only-of-type {\n",
       "        vertical-align: middle;\n",
       "    }\n",
       "\n",
       "    .dataframe tbody tr th {\n",
       "        vertical-align: top;\n",
       "    }\n",
       "\n",
       "    .dataframe thead th {\n",
       "        text-align: right;\n",
       "    }\n",
       "</style>\n",
       "<table border=\"1\" class=\"dataframe\">\n",
       "  <thead>\n",
       "    <tr style=\"text-align: right;\">\n",
       "      <th></th>\n",
       "      <th>a</th>\n",
       "      <th>b</th>\n",
       "      <th>c</th>\n",
       "    </tr>\n",
       "  </thead>\n",
       "  <tbody>\n",
       "    <tr>\n",
       "      <th>0</th>\n",
       "      <td>1</td>\n",
       "      <td>4</td>\n",
       "      <td>sanjeev</td>\n",
       "    </tr>\n",
       "    <tr>\n",
       "      <th>1</th>\n",
       "      <td>2</td>\n",
       "      <td>5</td>\n",
       "      <td>hafang</td>\n",
       "    </tr>\n",
       "    <tr>\n",
       "      <th>2</th>\n",
       "      <td>3</td>\n",
       "      <td>6</td>\n",
       "      <td>patton</td>\n",
       "    </tr>\n",
       "    <tr>\n",
       "      <th>3</th>\n",
       "      <td>4</td>\n",
       "      <td>7</td>\n",
       "      <td>Linus</td>\n",
       "    </tr>\n",
       "  </tbody>\n",
       "</table>\n",
       "</div>"
      ],
      "text/plain": [
       "   a  b        c\n",
       "0  1  4  sanjeev\n",
       "1  2  5   hafang\n",
       "2  3  6   patton\n",
       "3  4  7    Linus"
      ]
     },
     "execution_count": 119,
     "metadata": {},
     "output_type": "execute_result"
    }
   ],
   "source": [
    "df"
   ]
  },
  {
   "cell_type": "code",
   "execution_count": 120,
   "metadata": {},
   "outputs": [
    {
     "data": {
      "text/html": [
       "<div>\n",
       "<style scoped>\n",
       "    .dataframe tbody tr th:only-of-type {\n",
       "        vertical-align: middle;\n",
       "    }\n",
       "\n",
       "    .dataframe tbody tr th {\n",
       "        vertical-align: top;\n",
       "    }\n",
       "\n",
       "    .dataframe thead th {\n",
       "        text-align: right;\n",
       "    }\n",
       "</style>\n",
       "<table border=\"1\" class=\"dataframe\">\n",
       "  <thead>\n",
       "    <tr style=\"text-align: right;\">\n",
       "      <th></th>\n",
       "      <th>a</th>\n",
       "    </tr>\n",
       "  </thead>\n",
       "  <tbody>\n",
       "    <tr>\n",
       "      <th>0</th>\n",
       "      <td>1</td>\n",
       "    </tr>\n",
       "    <tr>\n",
       "      <th>1</th>\n",
       "      <td>2</td>\n",
       "    </tr>\n",
       "    <tr>\n",
       "      <th>2</th>\n",
       "      <td>3</td>\n",
       "    </tr>\n",
       "    <tr>\n",
       "      <th>3</th>\n",
       "      <td>4</td>\n",
       "    </tr>\n",
       "  </tbody>\n",
       "</table>\n",
       "</div>"
      ],
      "text/plain": [
       "   a\n",
       "0  1\n",
       "1  2\n",
       "2  3\n",
       "3  4"
      ]
     },
     "execution_count": 120,
     "metadata": {},
     "output_type": "execute_result"
    }
   ],
   "source": [
    "df[['a']]"
   ]
  },
  {
   "cell_type": "code",
   "execution_count": 121,
   "metadata": {},
   "outputs": [
    {
     "data": {
      "text/plain": [
       "a    2.5\n",
       "dtype: float64"
      ]
     },
     "execution_count": 121,
     "metadata": {},
     "output_type": "execute_result"
    }
   ],
   "source": [
    "df[['a']].mean()"
   ]
  },
  {
   "cell_type": "code",
   "execution_count": 122,
   "metadata": {},
   "outputs": [
    {
     "data": {
      "text/plain": [
       "b    5.5\n",
       "dtype: float64"
      ]
     },
     "execution_count": 122,
     "metadata": {},
     "output_type": "execute_result"
    }
   ],
   "source": [
    "df[['b']].median()"
   ]
  },
  {
   "cell_type": "code",
   "execution_count": 123,
   "metadata": {},
   "outputs": [
    {
     "data": {
      "text/plain": [
       "c    sanjeevhafangpattonLinus\n",
       "dtype: object"
      ]
     },
     "execution_count": 123,
     "metadata": {},
     "output_type": "execute_result"
    }
   ],
   "source": [
    "df[['c']].sum()"
   ]
  },
  {
   "cell_type": "code",
   "execution_count": 124,
   "metadata": {},
   "outputs": [
    {
     "data": {
      "text/plain": [
       "0    1\n",
       "1    2\n",
       "2    3\n",
       "3    4\n",
       "Name: a, dtype: int64"
      ]
     },
     "execution_count": 124,
     "metadata": {},
     "output_type": "execute_result"
    }
   ],
   "source": [
    "df['a'].mode()"
   ]
  },
  {
   "cell_type": "code",
   "execution_count": 125,
   "metadata": {},
   "outputs": [
    {
     "data": {
      "text/plain": [
       "a    1.290994\n",
       "dtype: float64"
      ]
     },
     "execution_count": 125,
     "metadata": {},
     "output_type": "execute_result"
    }
   ],
   "source": [
    "df[['a']].std()"
   ]
  },
  {
   "cell_type": "code",
   "execution_count": 126,
   "metadata": {},
   "outputs": [
    {
     "data": {
      "text/plain": [
       "10"
      ]
     },
     "execution_count": 126,
     "metadata": {},
     "output_type": "execute_result"
    }
   ],
   "source": [
    "df['a'].sum()"
   ]
  },
  {
   "cell_type": "code",
   "execution_count": 127,
   "metadata": {},
   "outputs": [
    {
     "data": {
      "text/plain": [
       "1"
      ]
     },
     "execution_count": 127,
     "metadata": {},
     "output_type": "execute_result"
    }
   ],
   "source": [
    "df['a'].min()"
   ]
  },
  {
   "cell_type": "code",
   "execution_count": 128,
   "metadata": {},
   "outputs": [
    {
     "data": {
      "text/plain": [
       "4"
      ]
     },
     "execution_count": 128,
     "metadata": {},
     "output_type": "execute_result"
    }
   ],
   "source": [
    "df['a'].max()"
   ]
  },
  {
   "cell_type": "code",
   "execution_count": 129,
   "metadata": {},
   "outputs": [
    {
     "data": {
      "text/plain": [
       "1.6666666666666667"
      ]
     },
     "execution_count": 129,
     "metadata": {},
     "output_type": "execute_result"
    }
   ],
   "source": [
    "df['a'].var()"
   ]
  },
  {
   "cell_type": "code",
   "execution_count": 130,
   "metadata": {},
   "outputs": [],
   "source": [
    "df5=pd.DataFrame({ 'a':[3,4,5,62,25,7,1,5]})"
   ]
  },
  {
   "cell_type": "code",
   "execution_count": 131,
   "metadata": {},
   "outputs": [
    {
     "data": {
      "text/html": [
       "<div>\n",
       "<style scoped>\n",
       "    .dataframe tbody tr th:only-of-type {\n",
       "        vertical-align: middle;\n",
       "    }\n",
       "\n",
       "    .dataframe tbody tr th {\n",
       "        vertical-align: top;\n",
       "    }\n",
       "\n",
       "    .dataframe thead th {\n",
       "        text-align: right;\n",
       "    }\n",
       "</style>\n",
       "<table border=\"1\" class=\"dataframe\">\n",
       "  <thead>\n",
       "    <tr style=\"text-align: right;\">\n",
       "      <th></th>\n",
       "      <th>a</th>\n",
       "    </tr>\n",
       "  </thead>\n",
       "  <tbody>\n",
       "    <tr>\n",
       "      <th>0</th>\n",
       "      <td>3</td>\n",
       "    </tr>\n",
       "    <tr>\n",
       "      <th>1</th>\n",
       "      <td>4</td>\n",
       "    </tr>\n",
       "    <tr>\n",
       "      <th>2</th>\n",
       "      <td>5</td>\n",
       "    </tr>\n",
       "    <tr>\n",
       "      <th>3</th>\n",
       "      <td>62</td>\n",
       "    </tr>\n",
       "    <tr>\n",
       "      <th>4</th>\n",
       "      <td>25</td>\n",
       "    </tr>\n",
       "    <tr>\n",
       "      <th>5</th>\n",
       "      <td>7</td>\n",
       "    </tr>\n",
       "    <tr>\n",
       "      <th>6</th>\n",
       "      <td>1</td>\n",
       "    </tr>\n",
       "    <tr>\n",
       "      <th>7</th>\n",
       "      <td>5</td>\n",
       "    </tr>\n",
       "  </tbody>\n",
       "</table>\n",
       "</div>"
      ],
      "text/plain": [
       "    a\n",
       "0   3\n",
       "1   4\n",
       "2   5\n",
       "3  62\n",
       "4  25\n",
       "5   7\n",
       "6   1\n",
       "7   5"
      ]
     },
     "execution_count": 131,
     "metadata": {},
     "output_type": "execute_result"
    }
   ],
   "source": [
    "df5"
   ]
  },
  {
   "cell_type": "code",
   "execution_count": 132,
   "metadata": {},
   "outputs": [
    {
     "data": {
      "text/plain": [
       "0     NaN\n",
       "1     3.5\n",
       "2     4.5\n",
       "3    33.5\n",
       "4    43.5\n",
       "5    16.0\n",
       "6     4.0\n",
       "7     3.0\n",
       "Name: a, dtype: float64"
      ]
     },
     "execution_count": 132,
     "metadata": {},
     "output_type": "execute_result"
    }
   ],
   "source": [
    "df5['a'].rolling(window =2).mean()"
   ]
  },
  {
   "cell_type": "code",
   "execution_count": 133,
   "metadata": {},
   "outputs": [
    {
     "data": {
      "text/plain": [
       "0          NaN\n",
       "1          NaN\n",
       "2     4.000000\n",
       "3    23.666667\n",
       "4    30.666667\n",
       "5    31.333333\n",
       "6    11.000000\n",
       "7     4.333333\n",
       "Name: a, dtype: float64"
      ]
     },
     "execution_count": 133,
     "metadata": {},
     "output_type": "execute_result"
    }
   ],
   "source": [
    "df5['a'].rolling(window=3).mean()"
   ]
  },
  {
   "cell_type": "code",
   "execution_count": 134,
   "metadata": {},
   "outputs": [
    {
     "data": {
      "text/plain": [
       "0    NaN\n",
       "1    NaN\n",
       "2    3.0\n",
       "3    4.0\n",
       "4    5.0\n",
       "5    7.0\n",
       "6    1.0\n",
       "7    1.0\n",
       "Name: a, dtype: float64"
      ]
     },
     "execution_count": 134,
     "metadata": {},
     "output_type": "execute_result"
    }
   ],
   "source": [
    "df5['a'].rolling(window=3).min()"
   ]
  },
  {
   "cell_type": "code",
   "execution_count": 135,
   "metadata": {},
   "outputs": [
    {
     "data": {
      "text/plain": [
       "0     NaN\n",
       "1     4.0\n",
       "2     5.0\n",
       "3    62.0\n",
       "4    62.0\n",
       "5    25.0\n",
       "6     7.0\n",
       "7     5.0\n",
       "Name: a, dtype: float64"
      ]
     },
     "execution_count": 135,
     "metadata": {},
     "output_type": "execute_result"
    }
   ],
   "source": [
    "df5['a'].rolling(window =2).max()"
   ]
  },
  {
   "cell_type": "code",
   "execution_count": 136,
   "metadata": {},
   "outputs": [
    {
     "data": {
      "text/plain": [
       "0      3\n",
       "1      7\n",
       "2     12\n",
       "3     74\n",
       "4     99\n",
       "5    106\n",
       "6    107\n",
       "7    112\n",
       "Name: a, dtype: int64"
      ]
     },
     "execution_count": 136,
     "metadata": {},
     "output_type": "execute_result"
    }
   ],
   "source": [
    "df5['a'].cumsum()"
   ]
  },
  {
   "cell_type": "code",
   "execution_count": 137,
   "metadata": {},
   "outputs": [],
   "source": [
    "date=pd.date_range(start='2023-04-20' , end ='2023-07-23')"
   ]
  },
  {
   "cell_type": "code",
   "execution_count": 138,
   "metadata": {},
   "outputs": [],
   "source": [
    "df_date=pd.DataFrame({'date':date})"
   ]
  },
  {
   "cell_type": "code",
   "execution_count": 139,
   "metadata": {},
   "outputs": [
    {
     "data": {
      "text/html": [
       "<div>\n",
       "<style scoped>\n",
       "    .dataframe tbody tr th:only-of-type {\n",
       "        vertical-align: middle;\n",
       "    }\n",
       "\n",
       "    .dataframe tbody tr th {\n",
       "        vertical-align: top;\n",
       "    }\n",
       "\n",
       "    .dataframe thead th {\n",
       "        text-align: right;\n",
       "    }\n",
       "</style>\n",
       "<table border=\"1\" class=\"dataframe\">\n",
       "  <thead>\n",
       "    <tr style=\"text-align: right;\">\n",
       "      <th></th>\n",
       "      <th>date</th>\n",
       "    </tr>\n",
       "  </thead>\n",
       "  <tbody>\n",
       "    <tr>\n",
       "      <th>0</th>\n",
       "      <td>2023-04-20</td>\n",
       "    </tr>\n",
       "    <tr>\n",
       "      <th>1</th>\n",
       "      <td>2023-04-21</td>\n",
       "    </tr>\n",
       "    <tr>\n",
       "      <th>2</th>\n",
       "      <td>2023-04-22</td>\n",
       "    </tr>\n",
       "    <tr>\n",
       "      <th>3</th>\n",
       "      <td>2023-04-23</td>\n",
       "    </tr>\n",
       "    <tr>\n",
       "      <th>4</th>\n",
       "      <td>2023-04-24</td>\n",
       "    </tr>\n",
       "    <tr>\n",
       "      <th>...</th>\n",
       "      <td>...</td>\n",
       "    </tr>\n",
       "    <tr>\n",
       "      <th>90</th>\n",
       "      <td>2023-07-19</td>\n",
       "    </tr>\n",
       "    <tr>\n",
       "      <th>91</th>\n",
       "      <td>2023-07-20</td>\n",
       "    </tr>\n",
       "    <tr>\n",
       "      <th>92</th>\n",
       "      <td>2023-07-21</td>\n",
       "    </tr>\n",
       "    <tr>\n",
       "      <th>93</th>\n",
       "      <td>2023-07-22</td>\n",
       "    </tr>\n",
       "    <tr>\n",
       "      <th>94</th>\n",
       "      <td>2023-07-23</td>\n",
       "    </tr>\n",
       "  </tbody>\n",
       "</table>\n",
       "<p>95 rows × 1 columns</p>\n",
       "</div>"
      ],
      "text/plain": [
       "         date\n",
       "0  2023-04-20\n",
       "1  2023-04-21\n",
       "2  2023-04-22\n",
       "3  2023-04-23\n",
       "4  2023-04-24\n",
       "..        ...\n",
       "90 2023-07-19\n",
       "91 2023-07-20\n",
       "92 2023-07-21\n",
       "93 2023-07-22\n",
       "94 2023-07-23\n",
       "\n",
       "[95 rows x 1 columns]"
      ]
     },
     "execution_count": 139,
     "metadata": {},
     "output_type": "execute_result"
    }
   ],
   "source": [
    "df_date"
   ]
  },
  {
   "cell_type": "code",
   "execution_count": 140,
   "metadata": {},
   "outputs": [
    {
     "data": {
      "text/plain": [
       "date    datetime64[ns]\n",
       "dtype: object"
      ]
     },
     "execution_count": 140,
     "metadata": {},
     "output_type": "execute_result"
    }
   ],
   "source": [
    "df_date.dtypes"
   ]
  },
  {
   "cell_type": "code",
   "execution_count": 141,
   "metadata": {},
   "outputs": [],
   "source": [
    "df8=pd.DataFrame({\"date\":['2023-02-02','2023-05-11','2023-03-02']})"
   ]
  },
  {
   "cell_type": "code",
   "execution_count": 142,
   "metadata": {},
   "outputs": [
    {
     "data": {
      "text/html": [
       "<div>\n",
       "<style scoped>\n",
       "    .dataframe tbody tr th:only-of-type {\n",
       "        vertical-align: middle;\n",
       "    }\n",
       "\n",
       "    .dataframe tbody tr th {\n",
       "        vertical-align: top;\n",
       "    }\n",
       "\n",
       "    .dataframe thead th {\n",
       "        text-align: right;\n",
       "    }\n",
       "</style>\n",
       "<table border=\"1\" class=\"dataframe\">\n",
       "  <thead>\n",
       "    <tr style=\"text-align: right;\">\n",
       "      <th></th>\n",
       "      <th>date</th>\n",
       "    </tr>\n",
       "  </thead>\n",
       "  <tbody>\n",
       "    <tr>\n",
       "      <th>0</th>\n",
       "      <td>2023-02-02</td>\n",
       "    </tr>\n",
       "    <tr>\n",
       "      <th>1</th>\n",
       "      <td>2023-05-11</td>\n",
       "    </tr>\n",
       "    <tr>\n",
       "      <th>2</th>\n",
       "      <td>2023-03-02</td>\n",
       "    </tr>\n",
       "  </tbody>\n",
       "</table>\n",
       "</div>"
      ],
      "text/plain": [
       "         date\n",
       "0  2023-02-02\n",
       "1  2023-05-11\n",
       "2  2023-03-02"
      ]
     },
     "execution_count": 142,
     "metadata": {},
     "output_type": "execute_result"
    }
   ],
   "source": [
    "df8"
   ]
  },
  {
   "cell_type": "code",
   "execution_count": 143,
   "metadata": {},
   "outputs": [
    {
     "data": {
      "text/plain": [
       "date    object\n",
       "dtype: object"
      ]
     },
     "execution_count": 143,
     "metadata": {},
     "output_type": "execute_result"
    }
   ],
   "source": [
    "df8.dtypes"
   ]
  },
  {
   "cell_type": "code",
   "execution_count": 144,
   "metadata": {},
   "outputs": [],
   "source": [
    "df8['update_date']=pd.to_datetime(df8['date'])"
   ]
  },
  {
   "cell_type": "code",
   "execution_count": 145,
   "metadata": {},
   "outputs": [
    {
     "data": {
      "text/html": [
       "<div>\n",
       "<style scoped>\n",
       "    .dataframe tbody tr th:only-of-type {\n",
       "        vertical-align: middle;\n",
       "    }\n",
       "\n",
       "    .dataframe tbody tr th {\n",
       "        vertical-align: top;\n",
       "    }\n",
       "\n",
       "    .dataframe thead th {\n",
       "        text-align: right;\n",
       "    }\n",
       "</style>\n",
       "<table border=\"1\" class=\"dataframe\">\n",
       "  <thead>\n",
       "    <tr style=\"text-align: right;\">\n",
       "      <th></th>\n",
       "      <th>date</th>\n",
       "      <th>update_date</th>\n",
       "    </tr>\n",
       "  </thead>\n",
       "  <tbody>\n",
       "    <tr>\n",
       "      <th>0</th>\n",
       "      <td>2023-02-02</td>\n",
       "      <td>2023-02-02</td>\n",
       "    </tr>\n",
       "    <tr>\n",
       "      <th>1</th>\n",
       "      <td>2023-05-11</td>\n",
       "      <td>2023-05-11</td>\n",
       "    </tr>\n",
       "    <tr>\n",
       "      <th>2</th>\n",
       "      <td>2023-03-02</td>\n",
       "      <td>2023-03-02</td>\n",
       "    </tr>\n",
       "  </tbody>\n",
       "</table>\n",
       "</div>"
      ],
      "text/plain": [
       "         date update_date\n",
       "0  2023-02-02  2023-02-02\n",
       "1  2023-05-11  2023-05-11\n",
       "2  2023-03-02  2023-03-02"
      ]
     },
     "execution_count": 145,
     "metadata": {},
     "output_type": "execute_result"
    }
   ],
   "source": [
    "df8"
   ]
  },
  {
   "cell_type": "code",
   "execution_count": 146,
   "metadata": {},
   "outputs": [
    {
     "data": {
      "text/plain": [
       "date                   object\n",
       "update_date    datetime64[ns]\n",
       "dtype: object"
      ]
     },
     "execution_count": 146,
     "metadata": {},
     "output_type": "execute_result"
    }
   ],
   "source": [
    "df8.dtypes"
   ]
  },
  {
   "cell_type": "code",
   "execution_count": 147,
   "metadata": {},
   "outputs": [],
   "source": [
    "df8['year']=df8['update_date'].dt.year"
   ]
  },
  {
   "cell_type": "code",
   "execution_count": 148,
   "metadata": {},
   "outputs": [
    {
     "data": {
      "text/html": [
       "<div>\n",
       "<style scoped>\n",
       "    .dataframe tbody tr th:only-of-type {\n",
       "        vertical-align: middle;\n",
       "    }\n",
       "\n",
       "    .dataframe tbody tr th {\n",
       "        vertical-align: top;\n",
       "    }\n",
       "\n",
       "    .dataframe thead th {\n",
       "        text-align: right;\n",
       "    }\n",
       "</style>\n",
       "<table border=\"1\" class=\"dataframe\">\n",
       "  <thead>\n",
       "    <tr style=\"text-align: right;\">\n",
       "      <th></th>\n",
       "      <th>date</th>\n",
       "      <th>update_date</th>\n",
       "      <th>year</th>\n",
       "    </tr>\n",
       "  </thead>\n",
       "  <tbody>\n",
       "    <tr>\n",
       "      <th>0</th>\n",
       "      <td>2023-02-02</td>\n",
       "      <td>2023-02-02</td>\n",
       "      <td>2023</td>\n",
       "    </tr>\n",
       "    <tr>\n",
       "      <th>1</th>\n",
       "      <td>2023-05-11</td>\n",
       "      <td>2023-05-11</td>\n",
       "      <td>2023</td>\n",
       "    </tr>\n",
       "    <tr>\n",
       "      <th>2</th>\n",
       "      <td>2023-03-02</td>\n",
       "      <td>2023-03-02</td>\n",
       "      <td>2023</td>\n",
       "    </tr>\n",
       "  </tbody>\n",
       "</table>\n",
       "</div>"
      ],
      "text/plain": [
       "         date update_date  year\n",
       "0  2023-02-02  2023-02-02  2023\n",
       "1  2023-05-11  2023-05-11  2023\n",
       "2  2023-03-02  2023-03-02  2023"
      ]
     },
     "execution_count": 148,
     "metadata": {},
     "output_type": "execute_result"
    }
   ],
   "source": [
    "df8"
   ]
  },
  {
   "cell_type": "code",
   "execution_count": 149,
   "metadata": {},
   "outputs": [],
   "source": [
    "df8['month']=df8['update_date'].dt.month_name()"
   ]
  },
  {
   "cell_type": "code",
   "execution_count": 150,
   "metadata": {},
   "outputs": [
    {
     "data": {
      "text/html": [
       "<div>\n",
       "<style scoped>\n",
       "    .dataframe tbody tr th:only-of-type {\n",
       "        vertical-align: middle;\n",
       "    }\n",
       "\n",
       "    .dataframe tbody tr th {\n",
       "        vertical-align: top;\n",
       "    }\n",
       "\n",
       "    .dataframe thead th {\n",
       "        text-align: right;\n",
       "    }\n",
       "</style>\n",
       "<table border=\"1\" class=\"dataframe\">\n",
       "  <thead>\n",
       "    <tr style=\"text-align: right;\">\n",
       "      <th></th>\n",
       "      <th>date</th>\n",
       "      <th>update_date</th>\n",
       "      <th>year</th>\n",
       "      <th>month</th>\n",
       "    </tr>\n",
       "  </thead>\n",
       "  <tbody>\n",
       "    <tr>\n",
       "      <th>0</th>\n",
       "      <td>2023-02-02</td>\n",
       "      <td>2023-02-02</td>\n",
       "      <td>2023</td>\n",
       "      <td>February</td>\n",
       "    </tr>\n",
       "    <tr>\n",
       "      <th>1</th>\n",
       "      <td>2023-05-11</td>\n",
       "      <td>2023-05-11</td>\n",
       "      <td>2023</td>\n",
       "      <td>May</td>\n",
       "    </tr>\n",
       "    <tr>\n",
       "      <th>2</th>\n",
       "      <td>2023-03-02</td>\n",
       "      <td>2023-03-02</td>\n",
       "      <td>2023</td>\n",
       "      <td>March</td>\n",
       "    </tr>\n",
       "  </tbody>\n",
       "</table>\n",
       "</div>"
      ],
      "text/plain": [
       "         date update_date  year     month\n",
       "0  2023-02-02  2023-02-02  2023  February\n",
       "1  2023-05-11  2023-05-11  2023       May\n",
       "2  2023-03-02  2023-03-02  2023     March"
      ]
     },
     "execution_count": 150,
     "metadata": {},
     "output_type": "execute_result"
    }
   ],
   "source": [
    "df8"
   ]
  },
  {
   "cell_type": "code",
   "execution_count": 151,
   "metadata": {},
   "outputs": [],
   "source": [
    "td=pd.Timedelta(days=1,hours=5,minutes=10,seconds=45,microseconds=45)"
   ]
  },
  {
   "cell_type": "code",
   "execution_count": 152,
   "metadata": {},
   "outputs": [],
   "source": [
    "dt=pd.to_datetime('2023-04-09')"
   ]
  },
  {
   "cell_type": "code",
   "execution_count": 153,
   "metadata": {},
   "outputs": [
    {
     "data": {
      "text/plain": [
       "Timestamp('2023-04-10 05:10:45.000045')"
      ]
     },
     "execution_count": 153,
     "metadata": {},
     "output_type": "execute_result"
    }
   ],
   "source": [
    "td+dt"
   ]
  },
  {
   "cell_type": "code",
   "execution_count": 154,
   "metadata": {},
   "outputs": [],
   "source": [
    "data=['sanjeev','jamatia','Linus','sanjeev','rajiv']"
   ]
  },
  {
   "cell_type": "code",
   "execution_count": 155,
   "metadata": {},
   "outputs": [
    {
     "data": {
      "text/plain": [
       "['sanjeev', 'jamatia', 'Linus', 'sanjeev', 'rajiv']\n",
       "Categories (4, object): ['Linus', 'jamatia', 'rajiv', 'sanjeev']"
      ]
     },
     "execution_count": 155,
     "metadata": {},
     "output_type": "execute_result"
    }
   ],
   "source": [
    "pd.Categorical(data)"
   ]
  },
  {
   "cell_type": "code",
   "execution_count": 156,
   "metadata": {},
   "outputs": [
    {
     "data": {
      "text/plain": [
       "CategoricalIndex(['sanjeev', 'jamatia', 'Linus', 'sanjeev', 'rajiv'], categories=['Linus', 'jamatia', 'rajiv', 'sanjeev'], ordered=False, dtype='category')"
      ]
     },
     "execution_count": 156,
     "metadata": {},
     "output_type": "execute_result"
    }
   ],
   "source": [
    "pd.CategoricalIndex(data)"
   ]
  },
  {
   "cell_type": "code",
   "execution_count": 157,
   "metadata": {},
   "outputs": [],
   "source": [
    "data2=pd.Categorical(data)"
   ]
  },
  {
   "cell_type": "code",
   "execution_count": 158,
   "metadata": {},
   "outputs": [
    {
     "data": {
      "text/plain": [
       "Linus      1\n",
       "jamatia    1\n",
       "rajiv      1\n",
       "sanjeev    2\n",
       "dtype: int64"
      ]
     },
     "execution_count": 158,
     "metadata": {},
     "output_type": "execute_result"
    }
   ],
   "source": [
    "data2.value_counts()"
   ]
  },
  {
   "cell_type": "code",
   "execution_count": 159,
   "metadata": {},
   "outputs": [],
   "source": [
    "d=pd.Series([1,2,9,5,8,6,7,8])"
   ]
  },
  {
   "cell_type": "code",
   "execution_count": 160,
   "metadata": {},
   "outputs": [
    {
     "data": {
      "text/plain": [
       "0    1\n",
       "1    2\n",
       "2    9\n",
       "3    5\n",
       "4    8\n",
       "5    6\n",
       "6    7\n",
       "7    8\n",
       "dtype: int64"
      ]
     },
     "execution_count": 160,
     "metadata": {},
     "output_type": "execute_result"
    }
   ],
   "source": [
    "d"
   ]
  },
  {
   "cell_type": "code",
   "execution_count": 161,
   "metadata": {},
   "outputs": [
    {
     "data": {
      "text/plain": [
       "<Axes: >"
      ]
     },
     "execution_count": 161,
     "metadata": {},
     "output_type": "execute_result"
    },
    {
     "data": {
      "image/png": "[encoded data removed]",
      "text/plain": [
       "<Figure size 640x480 with 1 Axes>"
      ]
     },
     "metadata": {},
     "output_type": "display_data"
    }
   ],
   "source": [
    "d.plot()"
   ]
  },
  {
   "cell_type": "code",
   "execution_count": 162,
   "metadata": {},
   "outputs": [
    {
     "data": {
      "text/plain": [
       "<Axes: >"
      ]
     },
     "execution_count": 162,
     "metadata": {},
     "output_type": "execute_result"
    },
    {
     "data": {
      "image/png": "[encoded data removed]",
      "text/plain": [
       "<Figure size 640x480 with 1 Axes>"
      ]
     },
     "metadata": {},
     "output_type": "display_data"
    }
   ],
   "source": [
    "d.plot.bar()"
   ]
  },
  {
   "cell_type": "code",
   "execution_count": 163,
   "metadata": {},
   "outputs": [
    {
     "data": {
      "text/plain": [
       "<Axes: >"
      ]
     },
     "execution_count": 163,
     "metadata": {},
     "output_type": "execute_result"
    },
    {
     "data": {
      "image/png": "[encoded data removed]",
      "text/plain": [
       "<Figure size 640x480 with 1 Axes>"
      ]
     },
     "metadata": {},
     "output_type": "display_data"
    }
   ],
   "source": [
    "d.plot.area()"
   ]
  },
  {
   "cell_type": "code",
   "execution_count": 164,
   "metadata": {},
   "outputs": [
    {
     "data": {
      "text/plain": [
       "<Axes: >"
      ]
     },
     "execution_count": 164,
     "metadata": {},
     "output_type": "execute_result"
    },
    {
     "data": {
      "image/png": "[encoded data removed]",
      "text/plain": [
       "<Figure size 640x480 with 1 Axes>"
      ]
     },
     "metadata": {},
     "output_type": "display_data"
    }
   ],
   "source": [
    "d.plot.barh()"
   ]
  },
  {
   "cell_type": "code",
   "execution_count": 165,
   "metadata": {},
   "outputs": [],
   "source": [
    "import pylab as py"
   ]
  },
  {
   "cell_type": "code",
   "execution_count": 167,
   "metadata": {},
   "outputs": [],
   "source": [
    "import statsmodels.api as sm "
   ]
  },
  {
   "cell_type": "code",
   "execution_count": 168,
   "metadata": {},
   "outputs": [],
   "source": [
    "import numpy as np\n",
    "import pylab as py"
   ]
  },
  {
   "cell_type": "code",
   "execution_count": 169,
   "metadata": {},
   "outputs": [],
   "source": [
    "data_points = np.random.normal(0,1,100)"
   ]
  },
  {
   "cell_type": "code",
   "execution_count": 170,
   "metadata": {},
   "outputs": [
    {
     "data": {
      "image/png": "[encoded data removed]",
      "text/plain": [
       "<Figure size 640x480 with 1 Axes>"
      ]
     },
     "metadata": {},
     "output_type": "display_data"
    }
   ],
   "source": [
    "sm.qqplot(data_points,line='45')\n",
    "py.show()"
   ]
  },
  {
   "cell_type": "code",
   "execution_count": 171,
   "metadata": {},
   "outputs": [
    {
     "data": {
      "text/plain": [
       "<seaborn.axisgrid.FacetGrid at 0x1f8fe1b0fd0>"
      ]
     },
     "execution_count": 171,
     "metadata": {},
     "output_type": "execute_result"
    },
    {
     "data": {
      "image/png": "[encoded data removed]",
      "text/plain": [
       "<Figure size 500x500 with 1 Axes>"
      ]
     },
     "metadata": {},
     "output_type": "display_data"
    }
   ],
   "source": [
    "import seaborn as sns \n",
    "sns.displot(data_points,kind='kde')"
   ]
  },
  {
   "cell_type": "code",
   "execution_count": 4,
   "metadata": {},
   "outputs": [
    {
     "data": {
      "image/png": "[encoded data removed]",
      "text/plain": [
       "<Figure size 640x480 with 1 Axes>"
      ]
     },
     "metadata": {},
     "output_type": "display_data"
    }
   ],
   "source": [
    "import numpy as np \n",
    "import statsmodels.api as sm\n",
    "import pylab as py\n",
    "\n",
    "data_points = np.random.normal(0,1,10000)\n",
    "sm.qqplot(data_points,line ='45')\n",
    "py.show()\n"
   ]
  },
  {
   "cell_type": "code",
   "execution_count": 7,
   "metadata": {},
   "outputs": [
    {
     "data": {
      "text/plain": [
       "array([ 2.28241655e-01, -8.11022287e-01,  4.48499481e-01, -1.77769001e+00,\n",
       "       -3.21260031e-01,  2.05702360e+00, -3.64313589e-01, -1.00719788e+00,\n",
       "       -1.13750849e-01, -1.67553253e-01, -1.25727577e+00, -7.54173729e-01,\n",
       "       -3.72149994e-02,  7.81993572e-01, -1.20776728e+00, -1.16132475e+00,\n",
       "        5.60497140e-01, -3.62451961e-01,  5.16111909e-02,  2.00558523e-01,\n",
       "       -2.93629605e-02,  5.14159513e-01, -1.73868369e+00,  1.68653348e-01,\n",
       "        8.29195161e-01, -2.91518426e+00,  2.04014568e+00,  6.24331625e-01,\n",
       "       -1.91360457e+00,  5.39777396e-01,  1.39628968e+00,  2.42938506e+00,\n",
       "       -5.34631909e-02,  5.53645970e-01,  2.24292148e+00, -6.18204961e-01,\n",
       "        2.86232361e+00,  1.60971231e+00,  2.72877394e-01,  6.39485289e-01,\n",
       "        1.82261321e+00, -8.05270262e-01,  6.96683915e-01,  9.64409115e-01,\n",
       "        1.41885336e+00,  7.33899987e-01,  2.49932516e+00, -5.11030364e-01,\n",
       "        1.03779132e+00, -1.23590892e+00, -1.72831523e+00,  5.61781322e-01,\n",
       "       -1.82491595e+00,  1.26305186e+00,  7.16997619e-01, -9.20603964e-01,\n",
       "        1.86453620e+00, -1.26991806e+00, -9.14834183e-01,  8.18380479e-01,\n",
       "       -1.07788746e+00,  2.10530169e-01,  1.42816573e+00, -1.38819273e+00,\n",
       "        1.05272441e+00,  1.34297713e+00,  1.20253773e+00,  6.58677789e-01,\n",
       "       -1.06318128e+00, -1.26835121e-01, -1.26770041e+00, -9.35293691e-02,\n",
       "        8.88966026e-01, -2.84230782e-01,  2.41925706e+00,  9.50514268e-01,\n",
       "       -3.39124400e-01,  3.86456264e-01, -9.36497757e-02, -1.52895441e+00,\n",
       "       -1.82663187e-01, -1.12355928e+00, -6.59721065e-01,  4.46160180e-01,\n",
       "       -8.74542851e-01, -6.49510085e-02,  1.17986076e+00,  1.42316654e+00,\n",
       "        8.61892979e-01, -1.98997266e-01, -7.18211613e-01, -5.83308350e-02,\n",
       "        1.24923280e+00, -3.26684287e-01, -1.55122199e-01,  1.54075804e+00,\n",
       "        1.39030555e-01,  1.64764288e-01,  4.40786857e-01,  2.98673362e+00,\n",
       "       -1.01822737e+00, -3.69680672e-01,  1.42646682e+00, -6.35038503e-01,\n",
       "       -1.04121812e+00, -1.03971183e+00, -2.22205087e-01,  7.18185052e-02,\n",
       "        3.85662971e-01,  1.54801619e-01, -7.54992648e-01, -3.08745275e-01,\n",
       "        5.94685960e-01,  2.39619249e+00, -3.76370393e-01,  1.91749010e+00,\n",
       "       -9.80659803e-01, -2.26225586e-01, -7.28119234e-01, -1.39842318e+00,\n",
       "       -2.12686180e+00,  7.22100562e-01,  7.64112523e-01, -2.24951982e+00,\n",
       "        3.17548447e-01, -1.44168870e+00,  1.22724729e+00, -5.67713734e-01,\n",
       "        1.25236569e+00,  8.51634542e-01, -1.00247001e+00, -9.35918085e-01,\n",
       "       -1.13540003e+00, -5.95434010e-01,  8.04451234e-01, -8.57349595e-01,\n",
       "       -3.50637311e-01, -1.28120202e+00, -5.82247860e-01,  8.06349582e-01,\n",
       "       -2.91137623e-01, -4.16631930e-01, -6.14946546e-01, -1.59178188e+00,\n",
       "        2.18473078e+00,  2.92925582e-01,  1.62586830e-01,  1.08098747e+00,\n",
       "       -9.33204197e-01, -2.38068091e+00, -1.06524521e+00, -9.58597028e-01,\n",
       "       -1.02758489e+00, -4.87483974e-01, -1.18114586e+00,  7.65652295e-01,\n",
       "       -1.72676971e+00,  4.94217160e-01,  2.15922709e-01,  5.64828642e-01,\n",
       "       -8.75066700e-02,  1.38160890e+00, -4.75580623e-01, -1.28535577e+00,\n",
       "        8.75289994e-01,  2.53285204e-01,  1.00550839e+00, -1.55634253e+00,\n",
       "       -1.33818238e+00, -9.95943112e-01,  9.15164876e-01, -5.63322683e-01,\n",
       "        4.61255795e-01,  2.00479757e-01,  3.79242795e-01, -5.36693959e-01,\n",
       "        3.26415410e-01, -5.35240751e-01, -8.81607896e-01, -1.18510424e+00,\n",
       "       -1.19107377e+00, -1.11471556e+00, -8.18174563e-01,  3.30443686e-01,\n",
       "       -1.04336542e+00,  4.26409598e-01,  1.16766424e+00,  3.46324881e-01,\n",
       "        3.97530037e-01, -1.11718327e+00,  3.16299783e-01, -2.77541389e-01,\n",
       "        1.13192014e+00,  1.97646234e-01, -1.43774847e+00, -1.19806606e+00,\n",
       "        1.34703843e-01,  2.20124546e-01,  1.81213387e+00, -1.11595153e+00,\n",
       "       -1.33819274e+00, -2.35317422e-01,  2.16073671e-01, -1.11278626e+00,\n",
       "       -2.10143684e+00, -4.90548649e-01,  7.95317870e-01, -3.18267497e-01,\n",
       "        1.37474676e+00, -8.48209544e-04,  5.02243300e-01, -6.61598869e-01,\n",
       "       -3.35459566e-01,  6.28497038e-01,  1.24710853e+00,  6.55177621e-01,\n",
       "       -4.14449668e-01, -1.27487087e-01,  3.03503500e-01,  6.68270954e-01,\n",
       "        1.78547127e+00,  7.54318948e-01, -6.94459602e-01, -1.18944739e+00,\n",
       "        9.70186789e-01, -3.20337209e-01, -6.32219585e-01, -1.52231778e+00,\n",
       "        1.48373154e+00, -1.36914032e+00,  1.53810612e+00,  1.82476888e+00,\n",
       "        2.45986759e-01, -1.31061414e-01,  3.95182297e-01, -3.78922282e-01,\n",
       "        5.88377218e-01, -9.12397683e-01,  1.38305948e-01, -7.66215177e-01,\n",
       "        1.16072959e+00, -9.32239179e-01,  1.50531887e+00, -1.70546052e-01,\n",
       "        3.18562260e-01, -1.02460766e+00, -1.81212381e+00,  1.75070706e+00,\n",
       "        8.91202614e-01, -1.34585044e+00,  1.51712967e+00, -8.64923525e-03,\n",
       "       -1.19825292e+00,  2.10771997e+00, -3.36480025e-01, -1.70314680e+00,\n",
       "       -1.18752902e+00,  2.57649600e-02,  8.30362762e-02, -3.05340110e-01,\n",
       "       -7.25214168e-01, -8.91379795e-01,  7.24240682e-01, -1.34446134e-01,\n",
       "        9.09199816e-01,  7.67651557e-01,  1.33917179e-03, -1.40102701e+00,\n",
       "       -1.40886979e+00,  7.71756298e-01, -1.34712300e+00,  1.26505804e+00,\n",
       "        6.94080968e-01,  1.91695929e+00, -9.43287914e-01,  6.48492360e-01,\n",
       "        6.27275981e-01,  2.92150392e-02, -4.46136865e-01, -1.08106674e+00,\n",
       "        1.09894416e+00,  4.33983158e-01,  4.66800350e-01, -5.83942531e-02,\n",
       "       -1.56003053e+00,  8.72457812e-01, -5.53401195e-01,  8.86551726e-01,\n",
       "        1.79769977e-01, -7.21245495e-01,  1.17738044e+00,  2.44325351e-01,\n",
       "       -8.08490669e-01,  8.84475826e-01,  5.66061674e-01,  2.02411255e+00,\n",
       "        1.11390759e+00,  5.86289858e-01, -1.16249384e+00, -1.12378903e+00,\n",
       "        8.46358810e-01,  9.41732461e-01,  1.80232519e-02, -1.94887307e+00,\n",
       "       -7.53503957e-01, -2.33407198e-01,  5.76242260e-01,  1.57914953e+00,\n",
       "        9.99101161e-01, -1.06229971e+00, -1.07515646e+00, -1.12943642e+00,\n",
       "        7.24382739e-01,  4.79755867e-01,  4.44564299e-01, -1.11219558e+00,\n",
       "        3.52421997e-01,  3.16586248e-01, -4.94586042e-03, -4.78537350e-01,\n",
       "        1.45330102e-01,  3.78283104e-01,  7.78362068e-01,  1.29825503e-01,\n",
       "       -8.61217329e-01,  9.68461429e-01, -4.50682224e-01, -2.42867739e-01,\n",
       "       -9.72420636e-01,  1.42215754e-01, -5.26697626e-01, -4.51797088e-01,\n",
       "       -1.29463685e-02,  4.24293715e-01,  1.55486920e-01,  1.75841500e+00,\n",
       "       -7.40946545e-01,  3.26084832e-01, -1.29008858e+00,  1.55442945e+00,\n",
       "       -2.89944393e-01, -1.76422642e+00,  5.70947253e-01, -8.01450128e-01,\n",
       "        7.38478750e-01,  3.15007412e-01,  8.52453415e-01,  1.91894319e-01,\n",
       "        1.07769698e+00,  3.35936250e-01, -1.09930253e+00,  6.75898430e-01,\n",
       "       -9.95973931e-02,  5.27998847e-01,  2.02386012e-01, -1.73793059e+00,\n",
       "        3.78457799e-01,  7.56250154e-01, -1.10277877e+00, -4.58593723e-01,\n",
       "        1.34657859e-01,  6.02046823e-01, -1.63332954e+00,  1.37842411e+00,\n",
       "        6.58070152e-01, -3.89164829e-01,  3.90900737e-01, -6.14569946e-01,\n",
       "        1.20385705e+00,  1.27933184e+00, -1.64746631e+00, -1.06201182e+00,\n",
       "        7.95978585e-01,  1.98804946e+00,  8.82306610e-02,  1.08396235e+00,\n",
       "       -4.00190938e-01,  8.08005760e-01,  6.61396086e-01,  9.43165413e-01,\n",
       "       -9.83447874e-01,  1.69551478e-01,  1.47993419e+00,  4.98078064e-01,\n",
       "        6.90205908e-01,  1.31170728e+00, -8.24526822e-01, -1.31744242e+00,\n",
       "        2.61795343e+00,  8.74782205e-01,  1.00781740e-01, -3.84841578e-02,\n",
       "        9.51316803e-01, -1.64859314e+00, -3.93800883e-01,  1.10695559e+00,\n",
       "        8.53002313e-01, -7.23120273e-01,  5.57106785e-01,  2.11452110e+00,\n",
       "        8.94136062e-02,  1.81880935e-01,  1.91941585e+00,  6.20004143e-01,\n",
       "       -8.76629643e-01, -6.67406542e-01, -2.02340764e-01,  8.41487786e-01,\n",
       "       -3.03601580e-01, -6.21036178e-01, -1.49682275e+00,  3.10196006e-01,\n",
       "       -1.28632969e+00, -8.21381043e-02, -1.79400632e-02, -6.71701166e-01,\n",
       "        7.50498272e-01,  2.32046660e-01, -1.46569916e+00,  9.11944672e-01,\n",
       "        1.10142792e+00, -1.03435907e+00,  1.37256644e-01, -7.46183213e-01,\n",
       "       -6.96912672e-01,  5.65125692e-01,  1.89418938e+00,  1.86816539e-01,\n",
       "       -3.39951003e-01,  8.86318236e-01,  1.83787170e-01,  1.06626168e+00,\n",
       "        1.27573760e+00, -3.25250840e-01, -1.23179254e+00,  1.56582164e-01,\n",
       "       -2.06897445e+00, -3.44726241e-01,  4.44471737e-02,  9.66771072e-01,\n",
       "       -2.14518588e-01, -9.48634889e-01,  3.42123917e-01,  9.58087014e-01,\n",
       "       -4.43619341e-02,  1.12528104e+00,  3.37863156e-01, -1.53972294e-01,\n",
       "       -9.48610062e-01, -5.41417394e-01, -7.44555645e-01, -1.18157625e+00,\n",
       "       -1.38321097e-01,  5.83414386e-01,  4.02929802e-01,  8.97191046e-01,\n",
       "       -3.31067617e-01, -1.85993270e+00, -4.00739457e-01,  1.08829153e+00,\n",
       "       -9.60090701e-01, -2.10471420e+00, -5.53488980e-01, -4.78003061e-01,\n",
       "       -4.26685929e-01, -1.40243918e+00,  5.01687065e-02, -4.15985954e-01,\n",
       "       -6.17618786e-01,  1.77274811e+00,  1.97854286e-01, -6.37612918e-01,\n",
       "       -7.77523288e-01,  7.27545215e-01, -1.33831972e+00, -1.24219439e-01,\n",
       "       -4.24535756e-02,  1.68478326e-01, -6.30177712e-01, -1.60205302e-01,\n",
       "        1.66819948e-01, -3.60174940e-01, -9.79685898e-01, -1.62417689e-01,\n",
       "       -5.49769103e-01,  3.01072552e-01,  8.60859187e-01, -1.84510090e+00,\n",
       "       -7.72387577e-01,  8.26466952e-01, -1.29922763e-01,  1.53276988e-01,\n",
       "       -3.14579316e-01, -9.24377089e-01, -1.20922751e-03, -8.80541825e-03,\n",
       "        1.23934309e+00, -7.34172172e-02, -1.19053436e+00, -6.21884798e-01,\n",
       "       -1.26339120e+00, -1.52233545e+00, -2.13152096e-01,  9.33840681e-01,\n",
       "        1.01201228e+00,  2.09955332e-01, -6.52767629e-01, -5.90400109e-01,\n",
       "        1.50251442e+00, -6.25948431e-01,  2.88365289e-01, -1.47240261e+00,\n",
       "       -5.76630302e-01,  7.92618915e-01, -2.92504273e-01,  7.30982234e-02,\n",
       "       -1.69215998e-01, -1.04537507e+00, -5.92329162e-01,  6.75802534e-01,\n",
       "        8.38040354e-01, -4.83176745e-01, -6.08437667e-01,  2.56033863e+00,\n",
       "        2.98318799e-01, -1.10974624e-01, -4.88379671e-01, -1.72290789e+00,\n",
       "        1.05043793e+00, -1.16377909e-01, -7.71926162e-01,  2.88892285e+00,\n",
       "       -3.48933549e-01,  1.34062203e+00, -1.40712889e-01,  5.01102022e-01,\n",
       "        7.20221378e-01,  2.69844849e-01, -3.42841025e-01, -7.42832940e-01,\n",
       "        1.24904526e+00, -4.12007462e-01, -5.81045960e-01,  4.40266892e-01,\n",
       "       -9.28477996e-01,  1.59686260e+00,  1.14626205e+00, -2.20253735e-01,\n",
       "        4.31858688e-01, -6.91650715e-02, -1.95603131e+00, -3.56106601e-02,\n",
       "        2.02295523e+00, -4.83135089e-03,  4.16856766e-01,  4.27772426e-01,\n",
       "        4.59661702e-01, -1.61219228e-01,  4.43809340e-01, -1.90808760e+00,\n",
       "       -2.27430410e+00, -1.19366159e+00, -1.62102810e+00, -4.18169765e-01,\n",
       "        9.29333639e-01, -5.65636030e-02,  1.69769206e+00,  3.34549984e-01,\n",
       "       -2.89953367e-01, -1.65526992e+00,  6.34983866e-01,  9.74638916e-02,\n",
       "       -1.59702161e-01, -8.35855386e-01,  1.31100663e+00,  1.16268802e+00,\n",
       "        4.38402966e-01, -2.08247665e+00, -3.16085533e-01,  3.97883931e-01,\n",
       "        3.03484899e-01,  1.12447207e+00, -5.88205815e-01, -8.83586196e-01,\n",
       "        2.07153662e+00, -9.48645954e-01,  6.36292001e-01,  1.09195191e+00,\n",
       "       -4.61565923e-01,  1.14615866e+00, -7.14052689e-01,  1.62171630e-01,\n",
       "       -8.40043495e-02, -3.58957090e-01,  1.26159330e+00,  6.67777730e-01,\n",
       "       -1.66492102e+00, -6.48942296e-01, -7.33613725e-02, -1.27843435e+00,\n",
       "        6.14408566e-01,  1.22900510e+00,  4.61529604e-01, -1.40755828e-01,\n",
       "       -7.79190455e-01, -5.35863680e-01, -1.02312188e+00,  1.80669967e+00,\n",
       "        2.04071972e+00, -6.30813562e-01, -1.27712475e+00,  1.10462532e+00,\n",
       "        5.84001955e-02,  1.09518775e+00, -5.79805603e-01,  1.74283362e-01,\n",
       "        3.25726958e-01, -1.36477104e+00, -1.99168654e+00,  2.12204797e-01,\n",
       "        3.83208092e-01,  4.97020517e-01,  2.55004298e-01, -2.00753848e+00,\n",
       "        1.52247814e+00,  2.40928848e-01, -4.65721651e-01,  1.02058720e+00,\n",
       "        1.54297730e+00,  6.80418215e-01,  1.54545403e-01,  3.12392534e-01,\n",
       "        6.53948222e-02, -1.47680547e+00, -4.06160833e-01,  1.77807072e-01,\n",
       "       -5.43095986e-01, -1.24751375e+00,  1.71576176e+00, -2.76845025e-01,\n",
       "        8.45220374e-01,  7.75552853e-02,  1.90098950e+00, -3.92500710e-01,\n",
       "        1.14451792e+00,  3.89108029e-01,  5.96435139e-01, -1.17122593e+00,\n",
       "       -1.07533299e+00,  5.35805281e-01, -7.09888683e-01,  1.46824061e+00,\n",
       "       -5.01796913e-01,  8.56821189e-01, -8.94321614e-01,  7.72237758e-01,\n",
       "       -3.09027727e-01,  1.46820664e+00,  6.57554358e-01,  7.33792971e-01,\n",
       "        7.69098268e-02, -2.30520623e-01, -1.32213328e-01,  1.59754437e-01,\n",
       "       -2.98604575e-01,  3.69400645e-01, -7.45905379e-02,  8.93416855e-01,\n",
       "        2.74610646e-01,  1.69934073e+00,  1.32577775e+00,  4.12273383e-01,\n",
       "       -3.28180688e-01,  5.29100109e-01, -4.70057459e-01,  4.69007143e-01,\n",
       "       -4.09314262e-01, -2.10125013e-01, -4.48618241e-01,  6.70636506e-02,\n",
       "        6.24634795e-01, -1.73023728e-01,  1.50137803e-01,  7.32962656e-01,\n",
       "       -2.75325065e-01, -7.00074885e-01, -1.53881942e-01, -4.65799188e-01,\n",
       "        1.31957502e+00,  5.75377328e-01, -4.07518172e-01,  3.18278900e-01,\n",
       "       -3.62064389e-01, -1.13411611e+00,  1.42826876e+00,  1.99393855e+00,\n",
       "       -7.78141876e-01, -1.65133634e+00, -1.72219039e+00,  1.84763054e-01,\n",
       "       -1.15454179e+00,  1.01070787e+00,  5.75676059e-01, -1.99279541e-01,\n",
       "        1.62359294e-01, -2.00339997e+00, -4.35309947e-01,  1.08548105e+00,\n",
       "        2.18078425e-02, -4.32915505e-01,  9.74385517e-01, -2.47762815e-02,\n",
       "       -1.16312673e+00, -4.76176897e-01, -9.09586796e-01, -8.83135295e-01,\n",
       "        5.17668350e-01, -7.46534579e-01, -8.22826081e-01,  7.59712734e-01,\n",
       "       -3.04489612e-01,  8.90858258e-01, -4.00245416e-01, -6.75467173e-01,\n",
       "        3.93569305e-01, -2.56228887e+00, -1.01552692e+00,  7.81625344e-02,\n",
       "        1.46352908e-01, -5.56829796e-01, -1.14780932e+00, -2.63369451e-01,\n",
       "        1.15502110e+00, -1.07275403e+00, -1.68298130e+00, -8.41284571e-01,\n",
       "       -1.69672515e+00, -1.04713021e-01,  8.98308693e-01, -1.65549038e+00,\n",
       "        6.98539904e-01, -3.11916229e-01, -2.88332669e-01, -1.99938217e+00,\n",
       "       -3.67089472e-01, -6.90279050e-01,  6.87048295e-01, -1.04953365e+00,\n",
       "        8.62273346e-03,  3.68167430e-01, -1.71234013e-01,  7.92718248e-01,\n",
       "       -8.47700674e-01,  4.90056599e-01,  8.69229613e-01,  9.87003867e-02,\n",
       "        1.58506736e-01, -1.20334526e+00, -7.18974995e-01,  1.05273436e+00,\n",
       "       -3.47702335e-01, -1.89744090e+00,  1.13240301e+00,  3.04664811e-01,\n",
       "        9.43857649e-01, -1.11697911e+00, -1.01789724e+00,  1.56534770e+00,\n",
       "        5.71975261e-02,  1.49562837e-01,  1.47241860e+00, -5.40627476e-01,\n",
       "        1.20419142e+00, -1.35613318e+00,  4.46543092e-01, -1.47501391e+00,\n",
       "        9.58265266e-01,  1.76609512e-01, -1.45738243e+00,  1.40414799e+00,\n",
       "       -3.18526277e-01,  5.28144857e-01, -4.60009878e-01, -1.68194896e-01,\n",
       "        1.12051502e-02,  9.95010299e-02,  1.07332616e+00, -7.15736056e-01,\n",
       "       -1.35899451e+00, -1.00728631e-01, -3.62403997e-01, -8.75725280e-01,\n",
       "       -9.00404271e-01, -1.82265881e-02, -1.00436102e+00,  1.22733188e-01,\n",
       "       -1.62670673e+00,  6.92460232e-01,  5.98695916e-01,  1.58712808e+00,\n",
       "        1.97403453e+00, -2.79887955e+00, -3.42717460e-01,  2.06473572e+00,\n",
       "        5.33212182e-02,  1.40394116e+00,  6.64892807e-01, -1.81585043e-01,\n",
       "       -1.29128272e-01,  1.35308856e-01,  1.48966747e+00,  1.00039579e+00,\n",
       "       -1.07111932e-01,  1.67812060e+00,  9.47739413e-01, -1.73919788e+00,\n",
       "       -6.51629498e-01, -1.83498884e+00,  1.06034815e+00, -3.72223715e-01,\n",
       "        2.11187349e-01,  1.79827283e+00,  1.09359070e+00,  2.33448921e-01,\n",
       "        1.81993379e+00, -7.26764097e-01, -1.26809365e+00,  7.45861332e-01,\n",
       "        7.10931772e-01, -2.25444840e-01,  6.28350934e-01,  3.45452091e-01,\n",
       "        4.66144177e-01,  2.70018824e-01,  2.53653639e-01, -3.10767773e-01,\n",
       "        1.84315142e-01,  6.95376270e-01,  7.52636210e-01, -1.64556070e+00,\n",
       "        1.04548105e+00,  3.65313363e-01,  3.42474881e-01,  8.83215129e-01,\n",
       "       -3.13052067e-01, -1.18884375e+00,  8.98356986e-01, -1.32190960e-02,\n",
       "        9.03217200e-01, -4.73602513e-01, -3.50772060e-01, -1.92376871e+00,\n",
       "        1.12220579e+00,  1.55317999e+00, -3.92534870e-01, -1.38099322e+00,\n",
       "        3.06224745e-02, -6.80834539e-01, -1.81868967e+00,  8.85058268e-01,\n",
       "       -4.79002019e-01,  9.07872153e-01, -1.11347399e+00, -8.75690154e-01,\n",
       "       -3.71207378e-01,  4.56810278e-01,  1.29050546e+00, -2.66226425e-01,\n",
       "       -3.63461161e-01, -1.74949114e+00, -1.21178091e+00,  7.87981709e-01,\n",
       "        7.19919352e-01, -6.43059023e-01,  6.16764019e-01,  1.27165074e-01,\n",
       "        7.46023293e-01,  9.40209400e-02, -6.05488364e-01,  2.64266838e-01,\n",
       "       -8.37772130e-01, -5.48385582e-01, -1.15485083e+00, -6.42450870e-01,\n",
       "       -9.36729852e-01,  3.64734622e-01,  2.10605544e-01,  4.92545528e-01,\n",
       "        9.09739334e-02, -1.21774829e+00, -5.74538334e-01,  7.97874886e-01,\n",
       "        6.11566832e-01,  5.10246501e-01, -2.29060910e-02, -8.58153956e-03,\n",
       "       -6.10452762e-02,  4.46818718e-01,  6.68034610e-01, -5.16665618e-01,\n",
       "        1.36051737e+00, -1.52886376e+00, -5.13563480e-01,  1.94261218e-01,\n",
       "       -9.81592568e-01, -6.29009528e-01,  2.01597444e+00,  8.26104615e-02,\n",
       "       -8.17150734e-01,  1.30235609e+00, -6.45895236e-01, -5.62983933e-01,\n",
       "        6.93740706e-01,  3.38263389e-01, -1.49011680e+00, -4.43897777e-01,\n",
       "        1.73860392e+00, -8.75744255e-01, -1.48086845e+00,  4.22067369e-01,\n",
       "        1.27507052e-03, -1.41173648e+00, -3.62880952e-01,  6.45512153e-01,\n",
       "        4.12475276e-01,  1.53770124e+00,  1.02001417e+00, -1.23828838e+00,\n",
       "        1.79663751e+00,  3.19432258e-01, -6.19793933e-01, -1.02493382e+00,\n",
       "       -1.31565280e+00, -2.22641830e-02,  6.95005429e-01, -1.07312336e-01,\n",
       "       -4.03038961e-01, -2.04275860e+00,  1.23729970e+00, -2.39932686e-01,\n",
       "       -1.97410554e-01, -1.68805831e+00, -1.48234202e+00,  1.49795137e-01,\n",
       "        1.80556316e+00,  1.66436840e+00, -3.37778122e-01, -2.81468121e-01,\n",
       "        2.07039671e+00,  8.97563761e-01, -3.21462450e-01,  2.71968061e+00,\n",
       "        9.04622805e-01, -6.51429358e-01,  1.67427701e+00,  8.23457811e-01,\n",
       "        1.78919676e+00,  6.00382152e-01, -5.28039679e-01,  1.07570186e+00,\n",
       "       -6.66762088e-01,  7.86882412e-01,  1.01179336e+00, -1.43508326e+00,\n",
       "       -1.14810280e+00, -2.30505237e+00, -1.94355059e-01,  7.23044342e-01,\n",
       "       -7.23931331e-01, -2.08102725e+00,  9.99776669e-01, -1.05996319e+00,\n",
       "        1.47584019e+00, -5.50243391e-01,  4.10729350e-01, -1.94304934e+00,\n",
       "        1.16193926e+00, -2.54269392e-01, -2.27413507e+00,  3.11194019e-01,\n",
       "       -8.09901224e-02, -1.43704060e-01,  1.23821501e-01, -5.73477202e-01,\n",
       "        6.42982061e-01,  1.66945243e+00, -6.56776814e-03, -1.65829783e+00,\n",
       "        4.41298397e-01, -1.47259238e-01,  5.41536695e-01,  1.16944986e+00,\n",
       "        3.48765348e-01,  1.39676549e+00, -1.69507413e+00, -8.68126970e-01,\n",
       "       -1.81817248e-01,  8.66087960e-01,  7.67548601e-01, -1.84972188e+00])"
      ]
     },
     "execution_count": 7,
     "metadata": {},
     "output_type": "execute_result"
    }
   ],
   "source": [
    "# standard normal distribution\n",
    "\n",
    "np.random.normal(0,1,1000)"
   ]
  },
  {
   "cell_type": "code",
   "execution_count": 8,
   "metadata": {},
   "outputs": [
    {
     "data": {
      "image/png": "[encoded data removed]",
      "text/plain": [
       "<Figure size 640x480 with 1 Axes>"
      ]
     },
     "metadata": {},
     "output_type": "display_data"
    }
   ],
   "source": [
    "gfg =np.random.lognormal(0,1,100)\n",
    "sm.qqplot(np.log(gfg),line ='45')\n",
    "py.show()"
   ]
  },
  {
   "cell_type": "code",
   "execution_count": null,
   "metadata": {},
   "outputs": [],
   "source": []
  }
 ],
 "metadata": {
  "kernelspec": {
   "display_name": "Python 3",
   "language": "python",
   "name": "python3"
  },
  "language_info": {
   "codemirror_mode": {
    "name": "ipython",
    "version": 3
   },
   "file_extension": ".py",
   "mimetype": "text/x-python",
   "name": "python",
   "nbconvert_exporter": "python",
   "pygments_lexer": "ipython3",
   "version": "3.10.10"
  },
  "orig_nbformat": 4
 },
 "nbformat": 4,
 "nbformat_minor": 2
}
